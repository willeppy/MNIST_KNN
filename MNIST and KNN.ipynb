{
 "cells": [
  {
   "cell_type": "markdown",
   "metadata": {},
   "source": [
    "# MNIST and KNN\n",
    "\n",
    "This notebook downloads the MNIST dataset and models the dataset using the entire training data and also samples of the data. Pytorch is used to download the data for convenince\n",
    "\n",
    "MNIST data link and other KNN results: http://yann.lecun.com/exdb/mnist/"
   ]
  },
  {
   "cell_type": "code",
   "execution_count": 52,
   "metadata": {},
   "outputs": [],
   "source": [
    "import torch\n",
    "import torchvision\n",
    "import numpy as np\n",
    "import pandas as pd"
   ]
  },
  {
   "cell_type": "markdown",
   "metadata": {},
   "source": [
    "### Download data\n",
    "\n",
    "Download the data from pytorch (for convenience) then turn into numpy arrays to be used with KNN and Scikit below"
   ]
  },
  {
   "cell_type": "code",
   "execution_count": 5,
   "metadata": {},
   "outputs": [],
   "source": [
    "train_loader = torch.utils.data.DataLoader(\n",
    "  torchvision.datasets.MNIST('./files/', train=True, download=True,\n",
    "                             transform=torchvision.transforms.Compose([\n",
    "                               torchvision.transforms.ToTensor(),\n",
    "                               torchvision.transforms.Normalize(\n",
    "                                 (0.1307,), (0.3081,))\n",
    "                             ])),\n",
    "  batch_size=60000, shuffle=True)\n",
    "\n",
    "test_loader = torch.utils.data.DataLoader(\n",
    "  torchvision.datasets.MNIST('./files/', train=False, download=True,\n",
    "                             transform=torchvision.transforms.Compose([\n",
    "                               torchvision.transforms.ToTensor(),\n",
    "                               torchvision.transforms.Normalize(\n",
    "                                 (0.1307,), (0.3081,))\n",
    "                             ])),\n",
    "  batch_size=10000, shuffle=True)"
   ]
  },
  {
   "cell_type": "code",
   "execution_count": 6,
   "metadata": {},
   "outputs": [],
   "source": [
    "_test = enumerate(test_loader)\n",
    "_, (test_data, test_targets) = next(_test)\n",
    "\n",
    "_train = enumerate(train_loader)\n",
    "_, (train_data, train_targets) = next(_train)\n",
    "\n",
    "train_X = train_data.numpy().reshape([60000, 28*28])\n",
    "train_y = train_targets.numpy()\n",
    "\n",
    "test_X = test_data.numpy().reshape([10000, 28*28])\n",
    "test_y = test_targets.numpy()"
   ]
  },
  {
   "cell_type": "code",
   "execution_count": 41,
   "metadata": {},
   "outputs": [
    {
     "name": "stdout",
     "output_type": "stream",
     "text": [
      "Train X:  (60000, 784)\n",
      "Train y:  (60000,)\n",
      "Test X:  (10000, 784)\n",
      "Test y:  (10000,)\n"
     ]
    }
   ],
   "source": [
    "print(\"Train X: \", train_X.shape)\n",
    "print(\"Train y: \", train_y.shape)\n",
    "print(\"Test X: \", test_X.shape)\n",
    "print(\"Test y: \", test_y.shape)"
   ]
  },
  {
   "cell_type": "markdown",
   "metadata": {},
   "source": [
    "### Model\n",
    "\n",
    "Use scikit-learn and KNN to model"
   ]
  },
  {
   "cell_type": "code",
   "execution_count": 43,
   "metadata": {},
   "outputs": [],
   "source": [
    "from sklearn.neighbors import KNeighborsClassifier\n",
    "from sklearn.metrics import accuracy_score"
   ]
  },
  {
   "cell_type": "code",
   "execution_count": 44,
   "metadata": {},
   "outputs": [
    {
     "data": {
      "text/plain": [
       "KNeighborsClassifier(algorithm='auto', leaf_size=30, metric='minkowski',\n",
       "                     metric_params=None, n_jobs=None, n_neighbors=10, p=2,\n",
       "                     weights='uniform')"
      ]
     },
     "execution_count": 44,
     "metadata": {},
     "output_type": "execute_result"
    }
   ],
   "source": [
    "model = KNeighborsClassifier(n_neighbors=10)\n",
    "model.fit(train_X, train_y)"
   ]
  },
  {
   "cell_type": "code",
   "execution_count": 46,
   "metadata": {},
   "outputs": [],
   "source": [
    "out = model.predict(test_X)\n",
    "\n",
    "score = accuracy_score(test_y, out)"
   ]
  },
  {
   "cell_type": "code",
   "execution_count": 47,
   "metadata": {},
   "outputs": [
    {
     "data": {
      "text/plain": [
       "0.9665"
      ]
     },
     "execution_count": 47,
     "metadata": {},
     "output_type": "execute_result"
    }
   ],
   "source": [
    "score"
   ]
  },
  {
   "cell_type": "markdown",
   "metadata": {},
   "source": [
    "### Model with samples"
   ]
  },
  {
   "cell_type": "code",
   "execution_count": 59,
   "metadata": {},
   "outputs": [
    {
     "name": "stdout",
     "output_type": "stream",
     "text": [
      "Model 0 has accuracy of 0.9308\n",
      "Model 1 has accuracy of 0.9303\n",
      "Model 2 has accuracy of 0.9313\n",
      "Model 3 has accuracy of 0.9339\n",
      "Model 4 has accuracy of 0.9309\n",
      "Model 5 has accuracy of 0.9337\n",
      "Model 6 has accuracy of 0.9313\n",
      "Model 7 has accuracy of 0.9338\n",
      "Model 8 has accuracy of 0.9358\n",
      "Model 9 has accuracy of 0.9334\n",
      "Average score for models trained on 10.0% of data: 0.93252\n"
     ]
    }
   ],
   "source": [
    "perc_val = .1 # sample % of the dataset\n",
    "num_iter = 10\n",
    "num_pts = int(train_X.shape[0] * perc_val)\n",
    "\n",
    "scores = []\n",
    "\n",
    "for i in range(num_iter):\n",
    "    \n",
    "    # sample data\n",
    "    sample_idx = np.random.choice(train_X.shape[0], num_pts, replace=False)\n",
    "    x_sample = train_X[sample_idx]\n",
    "    y_sample = train_y[sample_idx]\n",
    "    \n",
    "    # model sample\n",
    "    model = KNeighborsClassifier(n_neighbors=10)\n",
    "    model.fit(x_sample, y_sample)\n",
    "    \n",
    "    # test\n",
    "    out = model.predict(test_X)\n",
    "    score = accuracy_score(test_y, out)\n",
    "    \n",
    "    print(f\"Model {i} has accuracy of {score}\")\n",
    "    scores.append(score)\n",
    "\n",
    "    \n",
    "print(f\"Average score for models trained on {perc_val * 100}% of data: {np.mean(scores)}\")"
   ]
  },
  {
   "cell_type": "code",
   "execution_count": null,
   "metadata": {},
   "outputs": [],
   "source": []
  }
 ],
 "metadata": {
  "kernelspec": {
   "display_name": "Python 3",
   "language": "python",
   "name": "python3"
  },
  "language_info": {
   "codemirror_mode": {
    "name": "ipython",
    "version": 3
   },
   "file_extension": ".py",
   "mimetype": "text/x-python",
   "name": "python",
   "nbconvert_exporter": "python",
   "pygments_lexer": "ipython3",
   "version": "3.7.4"
  }
 },
 "nbformat": 4,
 "nbformat_minor": 2
}
